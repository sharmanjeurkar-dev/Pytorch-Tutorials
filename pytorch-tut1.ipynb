{
 "cells": [
  {
   "cell_type": "code",
   "execution_count": 1,
   "id": "c5833bdd",
   "metadata": {
    "_cell_guid": "b1076dfc-b9ad-4769-8c92-a6c4dae69d19",
    "_uuid": "8f2839f25d086af736a60e9eeb907d3b93b6e0e5",
    "execution": {
     "iopub.execute_input": "2025-09-28T18:37:06.285020Z",
     "iopub.status.busy": "2025-09-28T18:37:06.284589Z",
     "iopub.status.idle": "2025-09-28T18:37:12.031953Z",
     "shell.execute_reply": "2025-09-28T18:37:12.030827Z"
    },
    "papermill": {
     "duration": 5.755164,
     "end_time": "2025-09-28T18:37:12.034082",
     "exception": false,
     "start_time": "2025-09-28T18:37:06.278918",
     "status": "completed"
    },
    "tags": []
   },
   "outputs": [],
   "source": [
    "import torch"
   ]
  },
  {
   "cell_type": "markdown",
   "id": "241627fa",
   "metadata": {
    "papermill": {
     "duration": 0.003579,
     "end_time": "2025-09-28T18:37:12.041955",
     "exception": false,
     "start_time": "2025-09-28T18:37:12.038376",
     "status": "completed"
    },
    "tags": []
   },
   "source": [
    "# Introduction To Tensor"
   ]
  },
  {
   "cell_type": "code",
   "execution_count": 2,
   "id": "1111b6e4",
   "metadata": {
    "execution": {
     "iopub.execute_input": "2025-09-28T18:37:12.050385Z",
     "iopub.status.busy": "2025-09-28T18:37:12.049981Z",
     "iopub.status.idle": "2025-09-28T18:37:12.098342Z",
     "shell.execute_reply": "2025-09-28T18:37:12.097566Z"
    },
    "papermill": {
     "duration": 0.05472,
     "end_time": "2025-09-28T18:37:12.100204",
     "exception": false,
     "start_time": "2025-09-28T18:37:12.045484",
     "status": "completed"
    },
    "tags": []
   },
   "outputs": [
    {
     "data": {
      "text/plain": [
       "tensor(7)"
      ]
     },
     "execution_count": 2,
     "metadata": {},
     "output_type": "execute_result"
    }
   ],
   "source": [
    "#Scalar Tensor\n",
    "scalar = torch.tensor(7)\n",
    "scalar"
   ]
  },
  {
   "cell_type": "code",
   "execution_count": 3,
   "id": "52afc27c",
   "metadata": {
    "execution": {
     "iopub.execute_input": "2025-09-28T18:37:12.108918Z",
     "iopub.status.busy": "2025-09-28T18:37:12.108544Z",
     "iopub.status.idle": "2025-09-28T18:37:12.114750Z",
     "shell.execute_reply": "2025-09-28T18:37:12.113746Z"
    },
    "papermill": {
     "duration": 0.012154,
     "end_time": "2025-09-28T18:37:12.116249",
     "exception": false,
     "start_time": "2025-09-28T18:37:12.104095",
     "status": "completed"
    },
    "tags": []
   },
   "outputs": [
    {
     "data": {
      "text/plain": [
       "0"
      ]
     },
     "execution_count": 3,
     "metadata": {},
     "output_type": "execute_result"
    }
   ],
   "source": [
    "#Dimension\n",
    "scalar.ndim"
   ]
  },
  {
   "cell_type": "code",
   "execution_count": 4,
   "id": "75bf0302",
   "metadata": {
    "execution": {
     "iopub.execute_input": "2025-09-28T18:37:12.124933Z",
     "iopub.status.busy": "2025-09-28T18:37:12.124529Z",
     "iopub.status.idle": "2025-09-28T18:37:12.130707Z",
     "shell.execute_reply": "2025-09-28T18:37:12.129599Z"
    },
    "papermill": {
     "duration": 0.012098,
     "end_time": "2025-09-28T18:37:12.132254",
     "exception": false,
     "start_time": "2025-09-28T18:37:12.120156",
     "status": "completed"
    },
    "tags": []
   },
   "outputs": [
    {
     "data": {
      "text/plain": [
       "7"
      ]
     },
     "execution_count": 4,
     "metadata": {},
     "output_type": "execute_result"
    }
   ],
   "source": [
    "#Getting the value of tensor\n",
    "scalar.item()"
   ]
  },
  {
   "cell_type": "code",
   "execution_count": 5,
   "id": "154bd766",
   "metadata": {
    "execution": {
     "iopub.execute_input": "2025-09-28T18:37:12.140910Z",
     "iopub.status.busy": "2025-09-28T18:37:12.140518Z",
     "iopub.status.idle": "2025-09-28T18:37:12.145410Z",
     "shell.execute_reply": "2025-09-28T18:37:12.144507Z"
    },
    "papermill": {
     "duration": 0.011153,
     "end_time": "2025-09-28T18:37:12.147150",
     "exception": false,
     "start_time": "2025-09-28T18:37:12.135997",
     "status": "completed"
    },
    "tags": []
   },
   "outputs": [],
   "source": [
    "#Vector Tensor\n",
    "vector = torch.tensor([7,7,7])"
   ]
  },
  {
   "cell_type": "code",
   "execution_count": 6,
   "id": "82a9eabf",
   "metadata": {
    "execution": {
     "iopub.execute_input": "2025-09-28T18:37:12.155983Z",
     "iopub.status.busy": "2025-09-28T18:37:12.155582Z",
     "iopub.status.idle": "2025-09-28T18:37:12.161843Z",
     "shell.execute_reply": "2025-09-28T18:37:12.160886Z"
    },
    "papermill": {
     "duration": 0.012898,
     "end_time": "2025-09-28T18:37:12.163548",
     "exception": false,
     "start_time": "2025-09-28T18:37:12.150650",
     "status": "completed"
    },
    "tags": []
   },
   "outputs": [
    {
     "data": {
      "text/plain": [
       "1"
      ]
     },
     "execution_count": 6,
     "metadata": {},
     "output_type": "execute_result"
    }
   ],
   "source": [
    "#Dimenstion of vector -- No of pair of square Brackets ecnclosed inside the outer square brackets\n",
    "vector.ndim"
   ]
  },
  {
   "cell_type": "code",
   "execution_count": 7,
   "id": "b0e2203e",
   "metadata": {
    "execution": {
     "iopub.execute_input": "2025-09-28T18:37:12.171968Z",
     "iopub.status.busy": "2025-09-28T18:37:12.171619Z",
     "iopub.status.idle": "2025-09-28T18:37:12.177814Z",
     "shell.execute_reply": "2025-09-28T18:37:12.176766Z"
    },
    "papermill": {
     "duration": 0.012531,
     "end_time": "2025-09-28T18:37:12.179696",
     "exception": false,
     "start_time": "2025-09-28T18:37:12.167165",
     "status": "completed"
    },
    "tags": []
   },
   "outputs": [
    {
     "data": {
      "text/plain": [
       "torch.Size([3])"
      ]
     },
     "execution_count": 7,
     "metadata": {},
     "output_type": "execute_result"
    }
   ],
   "source": [
    "#Shape of vector --[(Shape),(No of elements in a side on pair of square bracket)] if shape 1 then shape not written\n",
    "vector.shape"
   ]
  },
  {
   "cell_type": "code",
   "execution_count": 8,
   "id": "c188e870",
   "metadata": {
    "execution": {
     "iopub.execute_input": "2025-09-28T18:37:12.190270Z",
     "iopub.status.busy": "2025-09-28T18:37:12.189939Z",
     "iopub.status.idle": "2025-09-28T18:37:12.195720Z",
     "shell.execute_reply": "2025-09-28T18:37:12.194570Z"
    },
    "papermill": {
     "duration": 0.013321,
     "end_time": "2025-09-28T18:37:12.197372",
     "exception": false,
     "start_time": "2025-09-28T18:37:12.184051",
     "status": "completed"
    },
    "tags": []
   },
   "outputs": [],
   "source": [
    "#MATRIX\n",
    "MATRIX = torch.tensor([[2,3],\n",
    "                     [4,5]])"
   ]
  },
  {
   "cell_type": "code",
   "execution_count": 9,
   "id": "9028d366",
   "metadata": {
    "execution": {
     "iopub.execute_input": "2025-09-28T18:37:12.206186Z",
     "iopub.status.busy": "2025-09-28T18:37:12.205893Z",
     "iopub.status.idle": "2025-09-28T18:37:12.211849Z",
     "shell.execute_reply": "2025-09-28T18:37:12.210902Z"
    },
    "papermill": {
     "duration": 0.012361,
     "end_time": "2025-09-28T18:37:12.213449",
     "exception": false,
     "start_time": "2025-09-28T18:37:12.201088",
     "status": "completed"
    },
    "tags": []
   },
   "outputs": [
    {
     "data": {
      "text/plain": [
       "2"
      ]
     },
     "execution_count": 9,
     "metadata": {},
     "output_type": "execute_result"
    }
   ],
   "source": [
    "MATRIX.ndim"
   ]
  },
  {
   "cell_type": "code",
   "execution_count": 10,
   "id": "0d7b23ee",
   "metadata": {
    "execution": {
     "iopub.execute_input": "2025-09-28T18:37:12.223019Z",
     "iopub.status.busy": "2025-09-28T18:37:12.222679Z",
     "iopub.status.idle": "2025-09-28T18:37:12.229259Z",
     "shell.execute_reply": "2025-09-28T18:37:12.228182Z"
    },
    "papermill": {
     "duration": 0.012966,
     "end_time": "2025-09-28T18:37:12.230971",
     "exception": false,
     "start_time": "2025-09-28T18:37:12.218005",
     "status": "completed"
    },
    "tags": []
   },
   "outputs": [
    {
     "data": {
      "text/plain": [
       "torch.Size([2, 2])"
      ]
     },
     "execution_count": 10,
     "metadata": {},
     "output_type": "execute_result"
    }
   ],
   "source": [
    "MATRIX.shape"
   ]
  },
  {
   "cell_type": "code",
   "execution_count": 11,
   "id": "5e70cfed",
   "metadata": {
    "execution": {
     "iopub.execute_input": "2025-09-28T18:37:12.240364Z",
     "iopub.status.busy": "2025-09-28T18:37:12.240061Z",
     "iopub.status.idle": "2025-09-28T18:37:12.248153Z",
     "shell.execute_reply": "2025-09-28T18:37:12.246980Z"
    },
    "papermill": {
     "duration": 0.014903,
     "end_time": "2025-09-28T18:37:12.249767",
     "exception": false,
     "start_time": "2025-09-28T18:37:12.234864",
     "status": "completed"
    },
    "tags": []
   },
   "outputs": [
    {
     "data": {
      "text/plain": [
       "tensor([4, 5])"
      ]
     },
     "execution_count": 11,
     "metadata": {},
     "output_type": "execute_result"
    }
   ],
   "source": [
    "#Elements in particular row of matrix to be shown like below\n",
    "MATRIX[1]"
   ]
  },
  {
   "cell_type": "code",
   "execution_count": 12,
   "id": "2fb3e144",
   "metadata": {
    "execution": {
     "iopub.execute_input": "2025-09-28T18:37:12.258752Z",
     "iopub.status.busy": "2025-09-28T18:37:12.258355Z",
     "iopub.status.idle": "2025-09-28T18:37:12.268768Z",
     "shell.execute_reply": "2025-09-28T18:37:12.267716Z"
    },
    "papermill": {
     "duration": 0.016953,
     "end_time": "2025-09-28T18:37:12.270691",
     "exception": false,
     "start_time": "2025-09-28T18:37:12.253738",
     "status": "completed"
    },
    "tags": []
   },
   "outputs": [
    {
     "data": {
      "text/plain": [
       "tensor([[[1, 2, 3],\n",
       "         [4, 5, 6],\n",
       "         [6, 7, 8]],\n",
       "\n",
       "        [[1, 2, 3],\n",
       "         [4, 5, 6],\n",
       "         [6, 7, 8]]])"
      ]
     },
     "execution_count": 12,
     "metadata": {},
     "output_type": "execute_result"
    }
   ],
   "source": [
    "TENSOR = torch.tensor([[[1,2,3],\n",
    "                       [4,5,6],\n",
    "                       [6,7,8]],\n",
    "                       [[1,2,3],\n",
    "                       [4,5,6],\n",
    "                       [6,7,8]]])\n",
    "#basic structure tensor:[[[here is ur one 'matrix/vector/scalar']]]\n",
    "TENSOR"
   ]
  },
  {
   "cell_type": "code",
   "execution_count": 13,
   "id": "dec3c70e",
   "metadata": {
    "execution": {
     "iopub.execute_input": "2025-09-28T18:37:12.279791Z",
     "iopub.status.busy": "2025-09-28T18:37:12.279453Z",
     "iopub.status.idle": "2025-09-28T18:37:12.286044Z",
     "shell.execute_reply": "2025-09-28T18:37:12.285015Z"
    },
    "papermill": {
     "duration": 0.013111,
     "end_time": "2025-09-28T18:37:12.287912",
     "exception": false,
     "start_time": "2025-09-28T18:37:12.274801",
     "status": "completed"
    },
    "tags": []
   },
   "outputs": [
    {
     "data": {
      "text/plain": [
       "3"
      ]
     },
     "execution_count": 13,
     "metadata": {},
     "output_type": "execute_result"
    }
   ],
   "source": [
    "TENSOR.ndim"
   ]
  },
  {
   "cell_type": "code",
   "execution_count": 14,
   "id": "26a56c7f",
   "metadata": {
    "execution": {
     "iopub.execute_input": "2025-09-28T18:37:12.301120Z",
     "iopub.status.busy": "2025-09-28T18:37:12.300769Z",
     "iopub.status.idle": "2025-09-28T18:37:12.307091Z",
     "shell.execute_reply": "2025-09-28T18:37:12.306003Z"
    },
    "papermill": {
     "duration": 0.016123,
     "end_time": "2025-09-28T18:37:12.308586",
     "exception": false,
     "start_time": "2025-09-28T18:37:12.292463",
     "status": "completed"
    },
    "tags": []
   },
   "outputs": [
    {
     "data": {
      "text/plain": [
       "torch.Size([2, 3, 3])"
      ]
     },
     "execution_count": 14,
     "metadata": {},
     "output_type": "execute_result"
    }
   ],
   "source": [
    "TENSOR.shape\n",
    "#It means that that their is two set of 3x3 matrix\n",
    "#1st element lines up with the number of set of outer most bracket.\n",
    "#The 2nd element lines up with number of square brackets inside the 2nd pair of brackets\n",
    "#The 3rd element lines up with the number of elements in the the innner most bracket"
   ]
  },
  {
   "cell_type": "code",
   "execution_count": null,
   "id": "a0a53461",
   "metadata": {
    "papermill": {
     "duration": 0.004123,
     "end_time": "2025-09-28T18:37:12.317236",
     "exception": false,
     "start_time": "2025-09-28T18:37:12.313113",
     "status": "completed"
    },
    "tags": []
   },
   "outputs": [],
   "source": []
  }
 ],
 "metadata": {
  "kaggle": {
   "accelerator": "none",
   "dataSources": [],
   "dockerImageVersionId": 31089,
   "isGpuEnabled": false,
   "isInternetEnabled": true,
   "language": "python",
   "sourceType": "notebook"
  },
  "kernelspec": {
   "display_name": "Python 3",
   "language": "python",
   "name": "python3"
  },
  "language_info": {
   "codemirror_mode": {
    "name": "ipython",
    "version": 3
   },
   "file_extension": ".py",
   "mimetype": "text/x-python",
   "name": "python",
   "nbconvert_exporter": "python",
   "pygments_lexer": "ipython3",
   "version": "3.11.13"
  },
  "papermill": {
   "default_parameters": {},
   "duration": 15.666949,
   "end_time": "2025-09-28T18:37:14.673056",
   "environment_variables": {},
   "exception": null,
   "input_path": "__notebook__.ipynb",
   "output_path": "__notebook__.ipynb",
   "parameters": {},
   "start_time": "2025-09-28T18:36:59.006107",
   "version": "2.6.0"
  }
 },
 "nbformat": 4,
 "nbformat_minor": 5
}
